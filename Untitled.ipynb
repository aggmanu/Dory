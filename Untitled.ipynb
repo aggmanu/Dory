{
 "cells": [
  {
   "cell_type": "code",
   "execution_count": 1,
   "id": "careful-shopper",
   "metadata": {},
   "outputs": [],
   "source": [
    "import dory\n",
    "import numpy as np\n",
    "import ipywidgets as widgets\n",
    "from ipyfilechooser import FileChooser\n",
    "import multiprocessing\n",
    "import scipy.spatial"
   ]
  },
  {
   "cell_type": "code",
   "execution_count": null,
   "id": "pursuant-gateway",
   "metadata": {},
   "outputs": [],
   "source": [
    "\n",
    "source = '/Users/aaaggarwalm4/Documents/Algo_paper_v2/Codes/Datasets/rand500/locs_1'\n",
    "target = '/Users/aaaggarwalm4/Desktop/rand500'\n",
    "\n",
    "thresh = 10.00\n",
    "threads = 4\n",
    "filetype = 1\n",
    "\n",
    "dim = 1\n",
    "\n",
    "\n",
    "h = dory.compute_PH(source, thresh, filetype, threads, target, dim)\n",
    "\n",
    "print(h)"
   ]
  },
  {
   "cell_type": "code",
   "execution_count": 1,
   "id": "collective-mixer",
   "metadata": {},
   "outputs": [
    {
     "ename": "NameError",
     "evalue": "name 'FileChooser' is not defined",
     "output_type": "error",
     "traceback": [
      "\u001b[0;31m---------------------------------------------------------------------------\u001b[0m",
      "\u001b[0;31mNameError\u001b[0m                                 Traceback (most recent call last)",
      "\u001b[0;32m<ipython-input-1-7a1fafffc0dd>\u001b[0m in \u001b[0;36m<module>\u001b[0;34m\u001b[0m\n\u001b[1;32m      1\u001b[0m \u001b[0;31m# Select the source file\u001b[0m\u001b[0;34m\u001b[0m\u001b[0;34m\u001b[0m\u001b[0;34m\u001b[0m\u001b[0m\n\u001b[0;32m----> 2\u001b[0;31m \u001b[0msource\u001b[0m \u001b[0;34m=\u001b[0m \u001b[0mFileChooser\u001b[0m\u001b[0;34m(\u001b[0m\u001b[0;34m'/Users/'\u001b[0m\u001b[0;34m)\u001b[0m\u001b[0;34m\u001b[0m\u001b[0;34m\u001b[0m\u001b[0m\n\u001b[0m\u001b[1;32m      3\u001b[0m \u001b[0mdisplay\u001b[0m\u001b[0;34m(\u001b[0m\u001b[0msource\u001b[0m\u001b[0;34m)\u001b[0m\u001b[0;34m\u001b[0m\u001b[0;34m\u001b[0m\u001b[0m\n",
      "\u001b[0;31mNameError\u001b[0m: name 'FileChooser' is not defined"
     ]
    }
   ],
   "source": [
    "# Select the source file\n",
    "source = FileChooser('/Users/')\n",
    "display(source)"
   ]
  },
  {
   "cell_type": "code",
   "execution_count": 3,
   "id": "narrow-remains",
   "metadata": {},
   "outputs": [
    {
     "data": {
      "application/vnd.jupyter.widget-view+json": {
       "model_id": "f570f972d1584b4482fa90b9c06d449f",
       "version_major": 2,
       "version_minor": 0
      },
      "text/plain": [
       "Dropdown(description='Filetype:', options=(('Distance matrix', 0), ('Point-cloud', 1), ('Edge list', 2)), valu…"
      ]
     },
     "metadata": {},
     "output_type": "display_data"
    }
   ],
   "source": [
    "data = np.loadtxt(source.selected, delimiter=',')\n",
    "\n",
    "# Select filetype\n",
    "filetype = widgets.Dropdown(\n",
    "    options=[('Distance matrix', 0), ('Point-cloud', 1), ('Edge list', 2)],\n",
    "    value=0,\n",
    "    description='Filetype:',\n",
    ")\n",
    "display(filetype)\n",
    "                  \n",
    "\n"
   ]
  },
  {
   "cell_type": "code",
   "execution_count": 4,
   "id": "athletic-cooper",
   "metadata": {},
   "outputs": [
    {
     "data": {
      "application/vnd.jupyter.widget-view+json": {
       "model_id": "654f2a04b60c493b869f19ceb75ef292",
       "version_major": 2,
       "version_minor": 0
      },
      "text/plain": [
       "FloatSlider(value=0.03162277660168354, continuous_update=False, description='Thresh:', max=13.297939690042215,…"
      ]
     },
     "metadata": {},
     "output_type": "display_data"
    },
    {
     "data": {
      "application/vnd.jupyter.widget-view+json": {
       "model_id": "66b0f72a78c64d4aaa0909939c421016",
       "version_major": 2,
       "version_minor": 0
      },
      "text/plain": [
       "Dropdown(description='PH dimension:', options=(('Up to H1', 1), ('Up to H2', 2)), value=1)"
      ]
     },
     "metadata": {},
     "output_type": "display_data"
    }
   ],
   "source": [
    "\n",
    "if (filetype.value==1):\n",
    "    pair_dist = scipy.spatial.distance.pdist(data, metric='euclidean')\n",
    "    min_thresh = np.amin(pair_dist)\n",
    "    max_thresh = np.amax(pair_dist)\n",
    "else:\n",
    "    min_thresh = np.amin(data)\n",
    "    max_thresh = np.amax(data)\n",
    "                  \n",
    "        \n",
    "# Select threshold\n",
    "thresh = widgets.FloatSlider(\n",
    "    value=0,\n",
    "    min=min_thresh,\n",
    "    max=max_thresh,\n",
    "    step=(max_thresh-min_thresh)/1000,\n",
    "    description='Thresh:',\n",
    "    disabled=False,\n",
    "    continuous_update=False,\n",
    "    orientation='horizontal',\n",
    "    readout=True,\n",
    "    readout_format='.3f',\n",
    ")                  \n",
    "display(thresh)\n",
    "\n",
    "# Select dimension to compute to\n",
    "dim_lim = widgets.Dropdown(\n",
    "    options=[('Up to H1', 1), ('Up to H2', 2)],\n",
    "    value=1,\n",
    "    description='PH dimension:',\n",
    ")\n",
    "display(dim_lim)\n",
    "\n",
    "\n"
   ]
  },
  {
   "cell_type": "code",
   "execution_count": 5,
   "id": "roman-approval",
   "metadata": {},
   "outputs": [
    {
     "data": {
      "application/vnd.jupyter.widget-view+json": {
       "model_id": "e5fc1c9d4aeb4166a542d8349fede9b9",
       "version_major": 2,
       "version_minor": 0
      },
      "text/plain": [
       "IntText(value=4, description='threads:')"
      ]
     },
     "metadata": {},
     "output_type": "display_data"
    }
   ],
   "source": [
    "# Select number of threads\n",
    "threads = widgets.IntText(\n",
    "    value=4,\n",
    "    description='threads:',\n",
    "    disabled=False\n",
    ")\n",
    "display(threads)\n"
   ]
  },
  {
   "cell_type": "code",
   "execution_count": 1,
   "id": "indirect-meeting",
   "metadata": {},
   "outputs": [
    {
     "ename": "NameError",
     "evalue": "name 'widgets' is not defined",
     "output_type": "error",
     "traceback": [
      "\u001b[0;31m---------------------------------------------------------------------------\u001b[0m",
      "\u001b[0;31mNameError\u001b[0m                                 Traceback (most recent call last)",
      "\u001b[0;32m<ipython-input-1-871145166448>\u001b[0m in \u001b[0;36m<module>\u001b[0;34m\u001b[0m\n\u001b[1;32m      1\u001b[0m \u001b[0;31m# Target\u001b[0m\u001b[0;34m\u001b[0m\u001b[0;34m\u001b[0m\u001b[0;34m\u001b[0m\u001b[0m\n\u001b[0;32m----> 2\u001b[0;31m target = widgets.Text(\n\u001b[0m\u001b[1;32m      3\u001b[0m     \u001b[0mvalue\u001b[0m\u001b[0;34m=\u001b[0m\u001b[0msource\u001b[0m\u001b[0;34m.\u001b[0m\u001b[0mselected_path\u001b[0m\u001b[0;34m,\u001b[0m\u001b[0;34m\u001b[0m\u001b[0;34m\u001b[0m\u001b[0m\n\u001b[1;32m      4\u001b[0m     \u001b[0mplaceholder\u001b[0m\u001b[0;34m=\u001b[0m\u001b[0msource\u001b[0m\u001b[0;34m.\u001b[0m\u001b[0mselected_path\u001b[0m\u001b[0;34m,\u001b[0m\u001b[0;34m\u001b[0m\u001b[0;34m\u001b[0m\u001b[0m\n\u001b[1;32m      5\u001b[0m     \u001b[0mdescription\u001b[0m\u001b[0;34m=\u001b[0m\u001b[0;34m'Target for PD'\u001b[0m\u001b[0;34m,\u001b[0m\u001b[0;34m\u001b[0m\u001b[0;34m\u001b[0m\u001b[0m\n",
      "\u001b[0;31mNameError\u001b[0m: name 'widgets' is not defined"
     ]
    }
   ],
   "source": [
    "# Target\n",
    "target = widgets.Text(\n",
    "    value=source.selected_path,\n",
    "    placeholder=source.selected_path,\n",
    "    description='Target for PD',\n",
    "    disabled=False\n",
    ")\n",
    "display(target)\n",
    "\n",
    "source2 = source.selected\n",
    "source2 = source2[:-4]\n",
    "print(source2)"
   ]
  },
  {
   "cell_type": "code",
   "execution_count": 7,
   "id": "beneficial-chemical",
   "metadata": {},
   "outputs": [
    {
     "name": "stdout",
     "output_type": "stream",
     "text": [
      "Computing PH for  Point-cloud  at  /Users/aaaggarwalm4/Documents/Algo_paper_v2/Codes/Datasets/rand500/locs_1.csv  up to dimension  1  up to parameter threshold  13.297939690042215  using  4  threads, and storing results at  /Users/aaaggarwalm4/Documents/Algo_paper_v2/Codes/Datasets/rand500/jupy\n"
     ]
    }
   ],
   "source": [
    "print(\"Computing PH for \", filetype.options[1][0], \" at \", source.selected,\" up to dimension \", dim_lim.value, \" up to parameter threshold \", thresh.value, \" using \", threads.value, \" threads, and storing results at \", target.value)\n"
   ]
  },
  {
   "cell_type": "code",
   "execution_count": null,
   "id": "regulated-shelf",
   "metadata": {},
   "outputs": [],
   "source": [
    "h = dory.compute_PH(source.selected, thresh.value, filetype.value, threads.value, target.value, dim_lim.value)"
   ]
  },
  {
   "cell_type": "code",
   "execution_count": null,
   "id": "faced-minnesota",
   "metadata": {},
   "outputs": [],
   "source": []
  }
 ],
 "metadata": {
  "kernelspec": {
   "display_name": "Python 3",
   "language": "python",
   "name": "python3"
  },
  "language_info": {
   "codemirror_mode": {
    "name": "ipython",
    "version": 3
   },
   "file_extension": ".py",
   "mimetype": "text/x-python",
   "name": "python",
   "nbconvert_exporter": "python",
   "pygments_lexer": "ipython3",
   "version": "3.8.5"
  }
 },
 "nbformat": 4,
 "nbformat_minor": 5
}
